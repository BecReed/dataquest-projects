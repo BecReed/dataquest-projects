{
 "cells": [
  {
   "cell_type": "markdown",
   "metadata": {},
   "source": [
    "# DataQuest Guided Project 2: App Stores and Profitability\n"
   ]
  },
  {
   "cell_type": "markdown",
   "metadata": {},
   "source": [
    "This is the first Guided Project from the DataQuest Data Scientist track. The goal is to explore a data set consisting of various Android and iOS mobile apps with their respective success indicators. \n",
    "\n",
    "The project works with two data sets. The first contains data approximately 10,000 Android apps from Google Play,  collected in August 2018. The second set contains data approximately 7,000 iOS apps from the App Store, collected in July 2017.\n",
    "\n",
    "Primarily the objective is to work with Python fundamentals so it does not include NumPy or Pandas. Specifically, the exploration will focus on the question of what profile application is likely to attract and reatin users thereby increasing the profit from ad revenue. \n",
    "\n"
   ]
  },
  {
   "cell_type": "markdown",
   "metadata": {},
   "source": [
    "### 1. Import and Initial Data Exploration\n",
    "\n",
    "first we will import the data using the reader module from the csv package so that it can be worked with as a list of the rows of data.  "
   ]
  },
  {
   "cell_type": "code",
   "execution_count": 35,
   "metadata": {
    "collapsed": false,
    "jupyter": {
     "outputs_hidden": false
    }
   },
   "outputs": [],
   "source": [
    "from csv import reader \n",
    "\n",
    "#Apple Store \n",
    "open_file = open('AppleStore.csv')\n",
    "read_file = reader(open_file)\n",
    "apple_data = list(read_file)\n",
    "apple_headers = apple_data[0]\n",
    "apple_data = apple_data[1:]\n",
    "\n",
    "#Google Play\n",
    "open_file = open('googleplaystore.csv')\n",
    "read_file = reader(open_file)\n",
    "google_data = list(read_file)\n",
    "google_headers = google_data[0]\n",
    "google_data = google_data[1:]\n"
   ]
  },
  {
   "cell_type": "markdown",
   "metadata": {},
   "source": [
    "To make exploring the data easier, we'll define the function below for printing sections as well as the row / column information. "
   ]
  },
  {
   "cell_type": "code",
   "execution_count": 36,
   "metadata": {},
   "outputs": [],
   "source": [
    "def explore_data(dataset, start, end, rows_and_columns=False):\n",
    "    dataset_slice = dataset[start:end]    \n",
    "    for row in dataset_slice:\n",
    "        print(row)\n",
    "        print('\\n') # adds a new (empty) line after each row\n",
    "\n",
    "    if rows_and_columns:\n",
    "        print('Number of rows:', len(dataset))\n",
    "        print('Number of columns:', len(dataset[0]))"
   ]
  },
  {
   "cell_type": "markdown",
   "metadata": {},
   "source": [
    "Below we explore the data sets using the explore_data function"
   ]
  },
  {
   "cell_type": "code",
   "execution_count": 37,
   "metadata": {
    "collapsed": false,
    "jupyter": {
     "outputs_hidden": false
    }
   },
   "outputs": [
    {
     "name": "stdout",
     "output_type": "stream",
     "text": [
      "Sample Apple Data\n",
      "\n",
      "['284882215', 'Facebook', '389879808', 'USD', '0.0', '2974676', '212', '3.5', '3.5', '95.0', '4+', 'Social Networking', '37', '1', '29', '1']\n",
      "\n",
      "\n",
      "Number of rows: 7197\n",
      "Number of columns: 16\n",
      "\n",
      "\n",
      "Sample Google Data\n",
      "\n",
      "['Photo Editor & Candy Camera & Grid & ScrapBook', 'ART_AND_DESIGN', '4.1', '159', '19M', '10,000+', 'Free', '0', 'Everyone', 'Art & Design', 'January 7, 2018', '1.0.0', '4.0.3 and up']\n",
      "\n",
      "\n",
      "Number of rows: 10841\n",
      "Number of columns: 13\n"
     ]
    }
   ],
   "source": [
    "print('Sample Apple Data\\n')\n",
    "explore_data(apple_data, 0, 1, True)\n",
    "print('\\n')\n",
    "print('Sample Google Data\\n')\n",
    "explore_data(google_data, 0, 1, True)"
   ]
  },
  {
   "cell_type": "markdown",
   "metadata": {},
   "source": [
    "Next let's take a look at what headers are in the data set."
   ]
  },
  {
   "cell_type": "code",
   "execution_count": 38,
   "metadata": {
    "collapsed": false,
    "jupyter": {
     "outputs_hidden": false
    }
   },
   "outputs": [
    {
     "name": "stdout",
     "output_type": "stream",
     "text": [
      "Apple Headers\n",
      "\n",
      "id || track_name || size_bytes || currency || price || rating_count_tot || rating_count_ver || user_rating || user_rating_ver || ver || cont_rating || prime_genre || sup_devices.num || ipadSc_urls.num || lang.num || vpp_lic || \n",
      "\n",
      "Google Headers\n",
      "\n",
      "App || Category || Rating || Reviews || Size || Installs || Type || Price || Content Rating || Genres || Last Updated || Current Ver || Android Ver || "
     ]
    }
   ],
   "source": [
    "print('Apple Headers\\n')\n",
    "for header in apple_headers:\n",
    "    print(header, end = ' || ')\n",
    "    \n",
    "print('\\n\\nGoogle Headers\\n')\n",
    "for header in google_headers:\n",
    "    print(header, end = ' || ')"
   ]
  },
  {
   "cell_type": "markdown",
   "metadata": {},
   "source": [
    "Not all of the Apple names are self explanatory so here is also a link to the documentation.\n",
    "\n",
    "https://www.kaggle.com/ramamet4/app-store-apple-data-set-10k-apps/home\n",
    "\n"
   ]
  },
  {
   "cell_type": "markdown",
   "metadata": {},
   "source": [
    "### 2. Data Cleaning\n",
    "\n",
    "There is a known issue with row 10472 from this discussion:\n",
    "https://www.kaggle.com/lava18/google-play-store-apps/discussion/66015\n",
    "\n",
    "Below we explore the rows around it and remove it."
   ]
  },
  {
   "cell_type": "code",
   "execution_count": 39,
   "metadata": {
    "collapsed": false,
    "jupyter": {
     "outputs_hidden": false
    }
   },
   "outputs": [
    {
     "name": "stdout",
     "output_type": "stream",
     "text": [
      "['Xposed Wi-Fi-Pwd', 'PERSONALIZATION', '3.5', '1042', '404k', '100,000+', 'Free', '0', 'Everyone', 'Personalization', 'August 5, 2014', '3.0.0', '4.0.3 and up']\n",
      "\n",
      "\n",
      "['Life Made WI-Fi Touchscreen Photo Frame', '1.9', '19', '3.0M', '1,000+', 'Free', '0', 'Everyone', '', 'February 11, 2018', '1.0.19', '4.0 and up']\n",
      "\n",
      "\n",
      "['osmino Wi-Fi: free WiFi', 'TOOLS', '4.2', '134203', '4.1M', '10,000,000+', 'Free', '0', 'Everyone', 'Tools', 'August 7, 2018', '6.06.14', '4.4 and up']\n",
      "\n",
      "\n"
     ]
    }
   ],
   "source": [
    "explore_data(google_data, 10471, 10474)\n"
   ]
  },
  {
   "cell_type": "code",
   "execution_count": 40,
   "metadata": {},
   "outputs": [],
   "source": [
    "del google_data[10472]"
   ]
  },
  {
   "cell_type": "code",
   "execution_count": 41,
   "metadata": {
    "collapsed": false,
    "jupyter": {
     "outputs_hidden": false
    }
   },
   "outputs": [
    {
     "name": "stdout",
     "output_type": "stream",
     "text": [
      "['Xposed Wi-Fi-Pwd', 'PERSONALIZATION', '3.5', '1042', '404k', '100,000+', 'Free', '0', 'Everyone', 'Personalization', 'August 5, 2014', '3.0.0', '4.0.3 and up']\n",
      "\n",
      "\n",
      "['osmino Wi-Fi: free WiFi', 'TOOLS', '4.2', '134203', '4.1M', '10,000,000+', 'Free', '0', 'Everyone', 'Tools', 'August 7, 2018', '6.06.14', '4.4 and up']\n",
      "\n",
      "\n",
      "['Sat-Fi Voice', 'COMMUNICATION', '3.4', '37', '14M', '1,000+', 'Free', '0', 'Everyone', 'Communication', 'November 21, 2014', '2.2.1.5', '2.2 and up']\n",
      "\n",
      "\n"
     ]
    }
   ],
   "source": [
    "explore_data(google_data, 10471, 10474)\n"
   ]
  },
  {
   "cell_type": "markdown",
   "metadata": {},
   "source": [
    "The google play store data also has duplicate entries we'll need to remove to not impact our frequency tables later. First, let's explore how many duplicates there are. "
   ]
  },
  {
   "cell_type": "code",
   "execution_count": 42,
   "metadata": {
    "collapsed": false,
    "jupyter": {
     "outputs_hidden": false
    }
   },
   "outputs": [
    {
     "name": "stdout",
     "output_type": "stream",
     "text": [
      "Number of Duplicats 1181\n"
     ]
    }
   ],
   "source": [
    "duplicate_apps = []; unique_apps = []\n",
    "\n",
    "for app in google_data:\n",
    "    name = app[0]\n",
    "    if name in unique_apps:\n",
    "        duplicate_apps.append(name)\n",
    "    else:\n",
    "        unique_apps.append(name) \n",
    "        \n",
    "print('Number of Duplicats', len(duplicate_apps))"
   ]
  },
  {
   "cell_type": "markdown",
   "metadata": {},
   "source": [
    "we'll choose to handle duplicates by keeping only the record with the highest number of reviews in the hopes that it reflects the most recent data. \n"
   ]
  },
  {
   "cell_type": "code",
   "execution_count": 43,
   "metadata": {
    "collapsed": false,
    "jupyter": {
     "outputs_hidden": false
    }
   },
   "outputs": [
    {
     "name": "stdout",
     "output_type": "stream",
     "text": [
      "9659\n"
     ]
    }
   ],
   "source": [
    "reviews_max = {}\n",
    "for app in google_data:\n",
    "    name = app[0]\n",
    "    n_reviews = float(app[3])\n",
    "    if name in reviews_max and reviews_max[name] < n_reviews:\n",
    "        reviews_max[name]=n_reviews\n",
    "    if name not in reviews_max:\n",
    "        reviews_max[name]=n_reviews \n",
    "\n",
    "print(len(reviews_max))"
   ]
  },
  {
   "cell_type": "code",
   "execution_count": 44,
   "metadata": {
    "collapsed": false,
    "jupyter": {
     "outputs_hidden": false
    }
   },
   "outputs": [
    {
     "name": "stdout",
     "output_type": "stream",
     "text": [
      "9659\n"
     ]
    }
   ],
   "source": [
    "google_clean = []\n",
    "already_added = []\n",
    "\n",
    "for app in google_data:\n",
    "    name = app[0]\n",
    "    n_reviews = float(app[3])\n",
    "    if n_reviews == reviews_max[name] and name not in already_added:\n",
    "        google_clean.append(app)\n",
    "        already_added.append(name)\n",
    "        \n",
    "print(len(google_clean))"
   ]
  },
  {
   "cell_type": "markdown",
   "metadata": {},
   "source": [
    "At this point we are left with 9659 records in the cleaned version of the Google Play Data set. We also need to focus on the English speaking market, however, so we can define a function to remove any of the records that are not in English. We'll do so for both Google Play and the Apple App Store. "
   ]
  },
  {
   "cell_type": "code",
   "execution_count": 49,
   "metadata": {},
   "outputs": [],
   "source": [
    "def english_char_check(a_string):\n",
    "    count = 0\n",
    "    for c in a_string:\n",
    "        if ord(c) > 127:\n",
    "            count += 1\n",
    "            if count == 3:\n",
    "                return False\n",
    "    return True"
   ]
  },
  {
   "cell_type": "code",
   "execution_count": 50,
   "metadata": {
    "collapsed": false,
    "jupyter": {
     "outputs_hidden": false
    }
   },
   "outputs": [
    {
     "name": "stdout",
     "output_type": "stream",
     "text": [
      "7197\n",
      "9597\n"
     ]
    }
   ],
   "source": [
    "english_apple = []\n",
    "for app in apple_data:\n",
    "    name = app[0]\n",
    "    if english_char_check(name):\n",
    "        english_apple.append(app)\n",
    "        \n",
    "print(len(english_apple))\n",
    "\n",
    "english_google = []\n",
    "for app in google_clean:\n",
    "    name = app[0]\n",
    "    if english_char_check(name):\n",
    "        english_google.append(app)\n",
    "        \n",
    "print(len(english_google))\n"
   ]
  },
  {
   "cell_type": "markdown",
   "metadata": {},
   "source": [
    "## 3. Isolate the Target Data - Free Apps\n",
    "\n",
    "Now that we are left with 7197 Apps from the App Store and 9597 in the Google Play Store, we will isolate the free apps from the paid for apps since the free apps is the population we are interested in."
   ]
  },
  {
   "cell_type": "code",
   "execution_count": 54,
   "metadata": {
    "collapsed": false,
    "jupyter": {
     "outputs_hidden": false
    }
   },
   "outputs": [
    {
     "name": "stdout",
     "output_type": "stream",
     "text": [
      "Number of Free App Store Apps:  4056\n",
      "Number of Free Google Play Store Apps:  8847\n"
     ]
    }
   ],
   "source": [
    "free_apple = []\n",
    "for app in english_apple:\n",
    "    price = app[4]\n",
    "    if price == '0.0':\n",
    "        free_apple.append(app)\n",
    "\n",
    "print('Number of Free App Store Apps: ', len(free_apple))\n",
    "\n",
    "free_google = []\n",
    "for app in english_google:\n",
    "    Type = app[6]\n",
    "    if Type == 'Free':\n",
    "        free_google.append(app)\n",
    "    \n",
    "print('Number of Free Google Play Store Apps: ',len(free_google))"
   ]
  },
  {
   "cell_type": "markdown",
   "metadata": {},
   "source": [
    "## 4. Seek Out Indicators for Success Within the Free Apps\n",
    "\n",
    "Since we are interested in what 'type' of app is successful, we'll need to look at the types of apps in the data set and choose a success indicator with a goal of sorting the types by the indicator and choosing a winner. \n",
    "\n",
    "Since not all types of apps will be evenly distributed, we need to determine how many of each there is. For this, we'll start with a frequncy table function and a function to display the output nicely. "
   ]
  },
  {
   "cell_type": "code",
   "execution_count": 60,
   "metadata": {
    "collapsed": false,
    "jupyter": {
     "outputs_hidden": false
    }
   },
   "outputs": [],
   "source": [
    "def freq_table(dataset, index):\n",
    "    D = {}\n",
    "    for row in dataset:\n",
    "        item = row[index]\n",
    "        if item in D:\n",
    "            D[item] += 1\n",
    "        else:\n",
    "            D[item] =1 \n",
    "    totalcount = 0\n",
    "    for key in D:\n",
    "         totalcount += D[key]\n",
    "    \n",
    "    for key in D:\n",
    "        D[key] = round(D[key]/totalcount*100,2)\n",
    "        \n",
    "    return D \n",
    "\n",
    "def display_table(dataset, index):\n",
    "    table = freq_table(dataset, index)\n",
    "    table_display = []\n",
    "    for key in table:\n",
    "        key_val_as_tuple = (table[key], key)\n",
    "        table_display.append(key_val_as_tuple)\n",
    "\n",
    "    table_sorted = sorted(table_display, reverse = True)\n",
    "    for entry in table_sorted:\n",
    "        print(entry[1], ':', entry[0])\n"
   ]
  },
  {
   "cell_type": "markdown",
   "metadata": {},
   "source": [
    "Using the display_table function (and frequncy table function within), We can categories of apps."
   ]
  },
  {
   "cell_type": "code",
   "execution_count": 59,
   "metadata": {
    "collapsed": false,
    "jupyter": {
     "outputs_hidden": false
    }
   },
   "outputs": [
    {
     "name": "stdout",
     "output_type": "stream",
     "text": [
      "Apple App Genres\n",
      "------\n",
      "\n",
      "Games : 55.65\n",
      "Entertainment : 8.23\n",
      "Photo & Video : 4.12\n",
      "Social Networking : 3.53\n",
      "Education : 3.25\n",
      "Shopping : 2.98\n",
      "Utilities : 2.69\n",
      "Lifestyle : 2.32\n",
      "Finance : 2.07\n",
      "Sports : 1.95\n",
      "Health & Fitness : 1.87\n",
      "Music : 1.65\n",
      "Book : 1.63\n",
      "Productivity : 1.53\n",
      "News : 1.43\n",
      "Travel : 1.38\n",
      "Food & Drink : 1.06\n",
      "Weather : 0.76\n",
      "Reference : 0.49\n",
      "Navigation : 0.49\n",
      "Business : 0.49\n",
      "Catalogs : 0.22\n",
      "Medical : 0.2\n",
      "\n",
      "\n",
      "Google Play Categories\n",
      "------\n",
      "\n",
      "FAMILY : 18.93\n",
      "GAME : 9.7\n",
      "TOOLS : 8.45\n",
      "BUSINESS : 4.6\n",
      "PRODUCTIVITY : 3.9\n",
      "LIFESTYLE : 3.89\n",
      "FINANCE : 3.71\n",
      "MEDICAL : 3.54\n",
      "SPORTS : 3.39\n",
      "PERSONALIZATION : 3.32\n",
      "COMMUNICATION : 3.23\n",
      "HEALTH_AND_FITNESS : 3.09\n",
      "PHOTOGRAPHY : 2.95\n",
      "NEWS_AND_MAGAZINES : 2.8\n",
      "SOCIAL : 2.67\n",
      "TRAVEL_AND_LOCAL : 2.34\n",
      "SHOPPING : 2.25\n",
      "BOOKS_AND_REFERENCE : 2.14\n",
      "DATING : 1.87\n",
      "VIDEO_PLAYERS : 1.8\n",
      "MAPS_AND_NAVIGATION : 1.39\n",
      "FOOD_AND_DRINK : 1.24\n",
      "EDUCATION : 1.16\n",
      "ENTERTAINMENT : 0.96\n",
      "LIBRARIES_AND_DEMO : 0.94\n",
      "AUTO_AND_VEHICLES : 0.93\n",
      "HOUSE_AND_HOME : 0.8\n",
      "WEATHER : 0.79\n",
      "EVENTS : 0.71\n",
      "PARENTING : 0.66\n",
      "ART_AND_DESIGN : 0.64\n",
      "COMICS : 0.61\n",
      "BEAUTY : 0.6\n",
      "\n",
      "\n",
      "Google Play Genres\n",
      "------\n",
      "\n",
      "Tools : 8.44\n",
      "Entertainment : 6.08\n",
      "Education : 5.36\n",
      "Business : 4.6\n",
      "Productivity : 3.9\n",
      "Lifestyle : 3.88\n",
      "Finance : 3.71\n",
      "Medical : 3.54\n",
      "Sports : 3.46\n",
      "Personalization : 3.32\n",
      "Communication : 3.23\n",
      "Action : 3.1\n",
      "Health & Fitness : 3.09\n",
      "Photography : 2.95\n",
      "News & Magazines : 2.8\n",
      "Social : 2.67\n",
      "Travel & Local : 2.33\n",
      "Shopping : 2.25\n",
      "Books & Reference : 2.14\n",
      "Simulation : 2.05\n",
      "Dating : 1.87\n",
      "Arcade : 1.84\n",
      "Video Players & Editors : 1.77\n",
      "Casual : 1.76\n",
      "Maps & Navigation : 1.39\n",
      "Food & Drink : 1.24\n",
      "Puzzle : 1.13\n",
      "Racing : 0.99\n",
      "Role Playing : 0.94\n",
      "Libraries & Demo : 0.94\n",
      "Auto & Vehicles : 0.93\n",
      "Strategy : 0.9\n",
      "House & Home : 0.8\n",
      "Weather : 0.79\n",
      "Events : 0.71\n",
      "Adventure : 0.67\n",
      "Comics : 0.6\n",
      "Beauty : 0.6\n",
      "Art & Design : 0.6\n",
      "Parenting : 0.5\n",
      "Card : 0.45\n",
      "Trivia : 0.42\n",
      "Casino : 0.42\n",
      "Educational;Education : 0.4\n",
      "Board : 0.38\n",
      "Educational : 0.37\n",
      "Education;Education : 0.34\n",
      "Word : 0.26\n",
      "Casual;Pretend Play : 0.24\n",
      "Music : 0.2\n",
      "Racing;Action & Adventure : 0.17\n",
      "Puzzle;Brain Games : 0.17\n",
      "Entertainment;Music & Video : 0.17\n",
      "Casual;Brain Games : 0.14\n",
      "Casual;Action & Adventure : 0.14\n",
      "Arcade;Action & Adventure : 0.12\n",
      "Action;Action & Adventure : 0.1\n",
      "Educational;Pretend Play : 0.09\n",
      "Simulation;Action & Adventure : 0.08\n",
      "Parenting;Education : 0.08\n",
      "Entertainment;Brain Games : 0.08\n",
      "Board;Brain Games : 0.08\n",
      "Parenting;Music & Video : 0.07\n",
      "Educational;Brain Games : 0.07\n",
      "Casual;Creativity : 0.07\n",
      "Art & Design;Creativity : 0.07\n",
      "Education;Pretend Play : 0.06\n",
      "Role Playing;Pretend Play : 0.05\n",
      "Education;Creativity : 0.05\n",
      "Role Playing;Action & Adventure : 0.03\n",
      "Puzzle;Action & Adventure : 0.03\n",
      "Entertainment;Creativity : 0.03\n",
      "Entertainment;Action & Adventure : 0.03\n",
      "Educational;Creativity : 0.03\n",
      "Educational;Action & Adventure : 0.03\n",
      "Education;Music & Video : 0.03\n",
      "Education;Brain Games : 0.03\n",
      "Education;Action & Adventure : 0.03\n",
      "Adventure;Action & Adventure : 0.03\n",
      "Video Players & Editors;Music & Video : 0.02\n",
      "Sports;Action & Adventure : 0.02\n",
      "Simulation;Pretend Play : 0.02\n",
      "Puzzle;Creativity : 0.02\n",
      "Music;Music & Video : 0.02\n",
      "Entertainment;Pretend Play : 0.02\n",
      "Casual;Education : 0.02\n",
      "Board;Action & Adventure : 0.02\n",
      "Video Players & Editors;Creativity : 0.01\n",
      "Trivia;Education : 0.01\n",
      "Travel & Local;Action & Adventure : 0.01\n",
      "Tools;Education : 0.01\n",
      "Strategy;Education : 0.01\n",
      "Strategy;Creativity : 0.01\n",
      "Strategy;Action & Adventure : 0.01\n",
      "Simulation;Education : 0.01\n",
      "Role Playing;Brain Games : 0.01\n",
      "Racing;Pretend Play : 0.01\n",
      "Puzzle;Education : 0.01\n",
      "Parenting;Brain Games : 0.01\n",
      "Music & Audio;Music & Video : 0.01\n",
      "Lifestyle;Pretend Play : 0.01\n",
      "Lifestyle;Education : 0.01\n",
      "Health & Fitness;Education : 0.01\n",
      "Health & Fitness;Action & Adventure : 0.01\n",
      "Entertainment;Education : 0.01\n",
      "Communication;Creativity : 0.01\n",
      "Comics;Creativity : 0.01\n",
      "Casual;Music & Video : 0.01\n",
      "Card;Action & Adventure : 0.01\n",
      "Books & Reference;Education : 0.01\n",
      "Art & Design;Pretend Play : 0.01\n",
      "Art & Design;Action & Adventure : 0.01\n",
      "Arcade;Pretend Play : 0.01\n",
      "Adventure;Education : 0.01\n"
     ]
    }
   ],
   "source": [
    "print('Apple App Genres\\n------\\n')\n",
    "display_table(free_apple,11)\n",
    "print('\\n\\nGoogle Play Categories\\n------\\n')\n",
    "display_table(free_google,1)\n",
    "print('\\n\\nGoogle Play Genres\\n------\\n')\n",
    "display_table(free_google,9)"
   ]
  },
  {
   "cell_type": "markdown",
   "metadata": {},
   "source": [
    "A potential success indicator from the data sets, we could look for how many downloads there are for each type of app. For the Google Play data set, we can find this information in the Installs column, but this information is missing for the App Store data set. As a workaround, we'll take the total number of user ratings as a proxy, which we can find in the rating_count_tot app."
   ]
  },
  {
   "cell_type": "code",
   "execution_count": 80,
   "metadata": {
    "collapsed": false,
    "jupyter": {
     "outputs_hidden": false
    }
   },
   "outputs": [
    {
     "name": "stdout",
     "output_type": "stream",
     "text": [
      "[('Games', 1053159), ('Social Networking', 187366), ('Photo & Video', 112270), ('Music', 93195), ('Entertainment', 89073), ('Shopping', 55865), ('Sports', 39252), ('Utilities', 37687), ('Health & Fitness', 37311), ('Weather', 35888), ('Reference', 33049), ('Productivity', 29152), ('Finance', 27991), ('Travel', 27898), ('News', 22727), ('Food & Drink', 21390), ('Lifestyle', 20830), ('Education', 20366), ('Book', 13852), ('Navigation', 12726), ('Business', 3120), ('Catalogs', 392), ('Medical', 92)]\n"
     ]
    }
   ],
   "source": [
    "apple_genre_ratios = freq_table(free_apple,11)\n",
    "\n",
    "apple_nratings_scaled = {}\n",
    "for genre in apple_genre_ratios:\n",
    "    total = 0\n",
    "    len_genre = 0\n",
    "    for row in free_apple:\n",
    "        row_genre = row[11]\n",
    "        if row_genre == genre:\n",
    "            total += float(row[5])\n",
    "            len_genre += 1\n",
    "    avg = total /len_genre\n",
    "    apple_nratings_scaled[genre] = round(avg*apple_genre_ratios[genre])\n",
    "\n",
    "print(sorted(apple_nratings_scaled.items(), key=lambda p:p[1], reverse=True))\n"
   ]
  },
  {
   "cell_type": "markdown",
   "metadata": {},
   "source": [
    "Google"
   ]
  },
  {
   "cell_type": "code",
   "execution_count": 79,
   "metadata": {
    "collapsed": false,
    "jupyter": {
     "outputs_hidden": false
    }
   },
   "outputs": [
    {
     "name": "stdout",
     "output_type": "stream",
     "text": [
      "[('GAME', 150776941), ('COMMUNICATION', 124647577), ('TOOLS', 91515629), ('FAMILY', 70000266), ('PRODUCTIVITY', 65470592), ('SOCIAL', 62087251), ('PHOTOGRAPHY', 52628326), ('VIDEO_PLAYERS', 44510170), ('TRAVEL_AND_LOCAL', 32722742), ('NEWS_AND_MAGAZINES', 26737700), ('BOOKS_AND_REFERENCE', 18862388), ('PERSONALIZATION', 17268922), ('SHOPPING', 15832974), ('HEALTH_AND_FITNESS', 12943460), ('SPORTS', 12375542), ('ENTERTAINMENT', 11175078), ('BUSINESS', 7876535), ('MAPS_AND_NAVIGATION', 5628492), ('LIFESTYLE', 5625555), ('FINANCE', 5148339), ('WEATHER', 4064985), ('FOOD_AND_DRINK', 2386873), ('EDUCATION', 2126854), ('DATING', 1597034), ('ART_AND_DESIGN', 1271254), ('HOUSE_AND_HOME', 1088478), ('AUTO_AND_VEHICLES', 602006), ('LIBRARIES_AND_DEMO', 600194), ('COMICS', 507894), ('MEDICAL', 426749), ('PARENTING', 358118), ('BEAUTY', 307891), ('EVENTS', 180015)]\n"
     ]
    }
   ],
   "source": [
    "google_category_ratios = freq_table(free_google,1)\n",
    "\n",
    "google_installs_scaled = {}\n",
    "for category in google_category_ratios:\n",
    "    total=0\n",
    "    len_cat = 0\n",
    "    for row in free_google:\n",
    "        row_cat = row[1]\n",
    "        if row_cat == category: \n",
    "            installs = row[5]\n",
    "            installs = installs.replace('+','')\n",
    "            installs = installs.replace(',','')\n",
    "            total += float(installs)\n",
    "            len_cat += 1\n",
    "    avg = total /len_cat\n",
    "    google_installs_scaled[category] = round(avg*google_category_ratios[category])\n",
    "    \n",
    "\n",
    "print(sorted(google_installs_scaled.items(), key=lambda p:p[1], reverse=True))\n"
   ]
  },
  {
   "cell_type": "markdown",
   "metadata": {},
   "source": [
    "For the Apple App Store, it looks like the Game apps have the highest number of ratings when scaled by the ratio of apps that are of that type. \n",
    "\n",
    "For the Google Play Store, Games wins as well. \n",
    "\n",
    "From this analysis, it looks like the Games category would be the best choice to optimze downloads and therefore profitability. "
   ]
  }
 ],
 "metadata": {
  "kernelspec": {
   "display_name": "Python 3",
   "language": "python",
   "name": "python3"
  },
  "language_info": {
   "codemirror_mode": {
    "name": "ipython",
    "version": 3
   },
   "file_extension": ".py",
   "mimetype": "text/x-python",
   "name": "python",
   "nbconvert_exporter": "python",
   "pygments_lexer": "ipython3",
   "version": "3.7.3"
  }
 },
 "nbformat": 4,
 "nbformat_minor": 4
}
